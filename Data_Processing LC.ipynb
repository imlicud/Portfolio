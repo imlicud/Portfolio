{
  "nbformat": 4,
  "nbformat_minor": 0,
  "metadata": {
    "colab": {
      "provenance": [],
      "authorship_tag": "ABX9TyMKtVJq4YUXPUT+agDJ2iKD",
      "include_colab_link": true
    },
    "kernelspec": {
      "name": "python3",
      "display_name": "Python 3"
    },
    "language_info": {
      "name": "python"
    }
  },
  "cells": [
    {
      "cell_type": "markdown",
      "metadata": {
        "id": "view-in-github",
        "colab_type": "text"
      },
      "source": [
        "<a href=\"https://colab.research.google.com/github/imlicud/Portfolio/blob/main/Data_Processing%20LC.ipynb\" target=\"_parent\"><img src=\"https://colab.research.google.com/assets/colab-badge.svg\" alt=\"Open In Colab\"/></a>"
      ]
    },
    {
      "cell_type": "markdown",
      "source": [
        "# Data Processing: By Lizette Cuevas\n",
        "Repaso de procesamiento de datos: Por Lizette Cuevas"
      ],
      "metadata": {
        "id": "t4Jlp2bz18_X"
      }
    },
    {
      "cell_type": "markdown",
      "source": [
        "# Heart Disease Database"
      ],
      "metadata": {
        "id": "8s03egplHw4m"
      }
    },
    {
      "cell_type": "code",
      "source": [
        "import pandas as pd\n",
        "import numpy as np\n",
        "#import seaborn as sns"
      ],
      "metadata": {
        "id": "fxUfbpUa2S-Y"
      },
      "execution_count": null,
      "outputs": []
    },
    {
      "cell_type": "code",
      "source": [
        "heartdis_df = pd.read_csv(\"datos_heart_disease.csv\")"
      ],
      "metadata": {
        "id": "viFnz8hl2em4"
      },
      "execution_count": null,
      "outputs": []
    },
    {
      "cell_type": "code",
      "source": [
        "heartdis_df"
      ],
      "metadata": {
        "colab": {
          "base_uri": "https://localhost:8080/",
          "height": 505
        },
        "id": "Uk42deQu98g2",
        "outputId": "71592365-5939-48ce-d0d3-7680f1e2528f"
      },
      "execution_count": null,
      "outputs": [
        {
          "output_type": "execute_result",
          "data": {
            "text/plain": [
              "     Unnamed: 0   Age Sex ChestPainType  RestingBP  Cholesterol  FastingBS  \\\n",
              "0           587  37.0   M           NAP      118.0        240.0        0.0   \n",
              "1           138  54.0   M           ASY      140.0        166.0        0.0   \n",
              "2           573  72.0   M           ASY        NaN        123.0        1.0   \n",
              "3           390  51.0   M           ASY      140.0          0.0        0.0   \n",
              "4           517  65.0   M           NaN      150.0        235.0        0.0   \n",
              "..          ...   ...  ..           ...        ...          ...        ...   \n",
              "795         272  55.0   M           ASY      140.0          NaN        0.0   \n",
              "796         443  60.0   M           ASY      130.0        186.0        1.0   \n",
              "797         646  66.0   M           ASY      160.0        228.0        0.0   \n",
              "798         118   NaN   F            TA      120.0        160.0        0.0   \n",
              "799         228  41.0   M           ATA      120.0          NaN        0.0   \n",
              "\n",
              "    RestingECG  MaxHR ExerciseAngina  Oldpeak ST_Slope  HeartDisease  \n",
              "0          LVH  165.0              N      1.0     Flat             0  \n",
              "1       Normal  118.0              Y      0.0     Flat             1  \n",
              "2          LVH  130.0              N      1.5     Flat             1  \n",
              "3       Normal   60.0              N      0.0     Flat             1  \n",
              "4          NaN  120.0              Y      1.5     Flat             1  \n",
              "..         ...    ...            ...      ...      ...           ...  \n",
              "795     Normal  130.0              Y      3.0     Flat             1  \n",
              "796         ST  140.0              Y      0.5     Flat             1  \n",
              "797        LVH  138.0              N      2.3      NaN             0  \n",
              "798         ST  185.0              N      0.0       Up             0  \n",
              "799     Normal  170.0              N      0.0       Up             0  \n",
              "\n",
              "[800 rows x 13 columns]"
            ],
            "text/html": [
              "\n",
              "  <div id=\"df-adabe5ad-8f30-48d7-93be-ce6b3e09cbfd\">\n",
              "    <div class=\"colab-df-container\">\n",
              "      <div>\n",
              "<style scoped>\n",
              "    .dataframe tbody tr th:only-of-type {\n",
              "        vertical-align: middle;\n",
              "    }\n",
              "\n",
              "    .dataframe tbody tr th {\n",
              "        vertical-align: top;\n",
              "    }\n",
              "\n",
              "    .dataframe thead th {\n",
              "        text-align: right;\n",
              "    }\n",
              "</style>\n",
              "<table border=\"1\" class=\"dataframe\">\n",
              "  <thead>\n",
              "    <tr style=\"text-align: right;\">\n",
              "      <th></th>\n",
              "      <th>Unnamed: 0</th>\n",
              "      <th>Age</th>\n",
              "      <th>Sex</th>\n",
              "      <th>ChestPainType</th>\n",
              "      <th>RestingBP</th>\n",
              "      <th>Cholesterol</th>\n",
              "      <th>FastingBS</th>\n",
              "      <th>RestingECG</th>\n",
              "      <th>MaxHR</th>\n",
              "      <th>ExerciseAngina</th>\n",
              "      <th>Oldpeak</th>\n",
              "      <th>ST_Slope</th>\n",
              "      <th>HeartDisease</th>\n",
              "    </tr>\n",
              "  </thead>\n",
              "  <tbody>\n",
              "    <tr>\n",
              "      <th>0</th>\n",
              "      <td>587</td>\n",
              "      <td>37.0</td>\n",
              "      <td>M</td>\n",
              "      <td>NAP</td>\n",
              "      <td>118.0</td>\n",
              "      <td>240.0</td>\n",
              "      <td>0.0</td>\n",
              "      <td>LVH</td>\n",
              "      <td>165.0</td>\n",
              "      <td>N</td>\n",
              "      <td>1.0</td>\n",
              "      <td>Flat</td>\n",
              "      <td>0</td>\n",
              "    </tr>\n",
              "    <tr>\n",
              "      <th>1</th>\n",
              "      <td>138</td>\n",
              "      <td>54.0</td>\n",
              "      <td>M</td>\n",
              "      <td>ASY</td>\n",
              "      <td>140.0</td>\n",
              "      <td>166.0</td>\n",
              "      <td>0.0</td>\n",
              "      <td>Normal</td>\n",
              "      <td>118.0</td>\n",
              "      <td>Y</td>\n",
              "      <td>0.0</td>\n",
              "      <td>Flat</td>\n",
              "      <td>1</td>\n",
              "    </tr>\n",
              "    <tr>\n",
              "      <th>2</th>\n",
              "      <td>573</td>\n",
              "      <td>72.0</td>\n",
              "      <td>M</td>\n",
              "      <td>ASY</td>\n",
              "      <td>NaN</td>\n",
              "      <td>123.0</td>\n",
              "      <td>1.0</td>\n",
              "      <td>LVH</td>\n",
              "      <td>130.0</td>\n",
              "      <td>N</td>\n",
              "      <td>1.5</td>\n",
              "      <td>Flat</td>\n",
              "      <td>1</td>\n",
              "    </tr>\n",
              "    <tr>\n",
              "      <th>3</th>\n",
              "      <td>390</td>\n",
              "      <td>51.0</td>\n",
              "      <td>M</td>\n",
              "      <td>ASY</td>\n",
              "      <td>140.0</td>\n",
              "      <td>0.0</td>\n",
              "      <td>0.0</td>\n",
              "      <td>Normal</td>\n",
              "      <td>60.0</td>\n",
              "      <td>N</td>\n",
              "      <td>0.0</td>\n",
              "      <td>Flat</td>\n",
              "      <td>1</td>\n",
              "    </tr>\n",
              "    <tr>\n",
              "      <th>4</th>\n",
              "      <td>517</td>\n",
              "      <td>65.0</td>\n",
              "      <td>M</td>\n",
              "      <td>NaN</td>\n",
              "      <td>150.0</td>\n",
              "      <td>235.0</td>\n",
              "      <td>0.0</td>\n",
              "      <td>NaN</td>\n",
              "      <td>120.0</td>\n",
              "      <td>Y</td>\n",
              "      <td>1.5</td>\n",
              "      <td>Flat</td>\n",
              "      <td>1</td>\n",
              "    </tr>\n",
              "    <tr>\n",
              "      <th>...</th>\n",
              "      <td>...</td>\n",
              "      <td>...</td>\n",
              "      <td>...</td>\n",
              "      <td>...</td>\n",
              "      <td>...</td>\n",
              "      <td>...</td>\n",
              "      <td>...</td>\n",
              "      <td>...</td>\n",
              "      <td>...</td>\n",
              "      <td>...</td>\n",
              "      <td>...</td>\n",
              "      <td>...</td>\n",
              "      <td>...</td>\n",
              "    </tr>\n",
              "    <tr>\n",
              "      <th>795</th>\n",
              "      <td>272</td>\n",
              "      <td>55.0</td>\n",
              "      <td>M</td>\n",
              "      <td>ASY</td>\n",
              "      <td>140.0</td>\n",
              "      <td>NaN</td>\n",
              "      <td>0.0</td>\n",
              "      <td>Normal</td>\n",
              "      <td>130.0</td>\n",
              "      <td>Y</td>\n",
              "      <td>3.0</td>\n",
              "      <td>Flat</td>\n",
              "      <td>1</td>\n",
              "    </tr>\n",
              "    <tr>\n",
              "      <th>796</th>\n",
              "      <td>443</td>\n",
              "      <td>60.0</td>\n",
              "      <td>M</td>\n",
              "      <td>ASY</td>\n",
              "      <td>130.0</td>\n",
              "      <td>186.0</td>\n",
              "      <td>1.0</td>\n",
              "      <td>ST</td>\n",
              "      <td>140.0</td>\n",
              "      <td>Y</td>\n",
              "      <td>0.5</td>\n",
              "      <td>Flat</td>\n",
              "      <td>1</td>\n",
              "    </tr>\n",
              "    <tr>\n",
              "      <th>797</th>\n",
              "      <td>646</td>\n",
              "      <td>66.0</td>\n",
              "      <td>M</td>\n",
              "      <td>ASY</td>\n",
              "      <td>160.0</td>\n",
              "      <td>228.0</td>\n",
              "      <td>0.0</td>\n",
              "      <td>LVH</td>\n",
              "      <td>138.0</td>\n",
              "      <td>N</td>\n",
              "      <td>2.3</td>\n",
              "      <td>NaN</td>\n",
              "      <td>0</td>\n",
              "    </tr>\n",
              "    <tr>\n",
              "      <th>798</th>\n",
              "      <td>118</td>\n",
              "      <td>NaN</td>\n",
              "      <td>F</td>\n",
              "      <td>TA</td>\n",
              "      <td>120.0</td>\n",
              "      <td>160.0</td>\n",
              "      <td>0.0</td>\n",
              "      <td>ST</td>\n",
              "      <td>185.0</td>\n",
              "      <td>N</td>\n",
              "      <td>0.0</td>\n",
              "      <td>Up</td>\n",
              "      <td>0</td>\n",
              "    </tr>\n",
              "    <tr>\n",
              "      <th>799</th>\n",
              "      <td>228</td>\n",
              "      <td>41.0</td>\n",
              "      <td>M</td>\n",
              "      <td>ATA</td>\n",
              "      <td>120.0</td>\n",
              "      <td>NaN</td>\n",
              "      <td>0.0</td>\n",
              "      <td>Normal</td>\n",
              "      <td>170.0</td>\n",
              "      <td>N</td>\n",
              "      <td>0.0</td>\n",
              "      <td>Up</td>\n",
              "      <td>0</td>\n",
              "    </tr>\n",
              "  </tbody>\n",
              "</table>\n",
              "<p>800 rows × 13 columns</p>\n",
              "</div>\n",
              "      <button class=\"colab-df-convert\" onclick=\"convertToInteractive('df-adabe5ad-8f30-48d7-93be-ce6b3e09cbfd')\"\n",
              "              title=\"Convert this dataframe to an interactive table.\"\n",
              "              style=\"display:none;\">\n",
              "        \n",
              "  <svg xmlns=\"http://www.w3.org/2000/svg\" height=\"24px\"viewBox=\"0 0 24 24\"\n",
              "       width=\"24px\">\n",
              "    <path d=\"M0 0h24v24H0V0z\" fill=\"none\"/>\n",
              "    <path d=\"M18.56 5.44l.94 2.06.94-2.06 2.06-.94-2.06-.94-.94-2.06-.94 2.06-2.06.94zm-11 1L8.5 8.5l.94-2.06 2.06-.94-2.06-.94L8.5 2.5l-.94 2.06-2.06.94zm10 10l.94 2.06.94-2.06 2.06-.94-2.06-.94-.94-2.06-.94 2.06-2.06.94z\"/><path d=\"M17.41 7.96l-1.37-1.37c-.4-.4-.92-.59-1.43-.59-.52 0-1.04.2-1.43.59L10.3 9.45l-7.72 7.72c-.78.78-.78 2.05 0 2.83L4 21.41c.39.39.9.59 1.41.59.51 0 1.02-.2 1.41-.59l7.78-7.78 2.81-2.81c.8-.78.8-2.07 0-2.86zM5.41 20L4 18.59l7.72-7.72 1.47 1.35L5.41 20z\"/>\n",
              "  </svg>\n",
              "      </button>\n",
              "      \n",
              "  <style>\n",
              "    .colab-df-container {\n",
              "      display:flex;\n",
              "      flex-wrap:wrap;\n",
              "      gap: 12px;\n",
              "    }\n",
              "\n",
              "    .colab-df-convert {\n",
              "      background-color: #E8F0FE;\n",
              "      border: none;\n",
              "      border-radius: 50%;\n",
              "      cursor: pointer;\n",
              "      display: none;\n",
              "      fill: #1967D2;\n",
              "      height: 32px;\n",
              "      padding: 0 0 0 0;\n",
              "      width: 32px;\n",
              "    }\n",
              "\n",
              "    .colab-df-convert:hover {\n",
              "      background-color: #E2EBFA;\n",
              "      box-shadow: 0px 1px 2px rgba(60, 64, 67, 0.3), 0px 1px 3px 1px rgba(60, 64, 67, 0.15);\n",
              "      fill: #174EA6;\n",
              "    }\n",
              "\n",
              "    [theme=dark] .colab-df-convert {\n",
              "      background-color: #3B4455;\n",
              "      fill: #D2E3FC;\n",
              "    }\n",
              "\n",
              "    [theme=dark] .colab-df-convert:hover {\n",
              "      background-color: #434B5C;\n",
              "      box-shadow: 0px 1px 3px 1px rgba(0, 0, 0, 0.15);\n",
              "      filter: drop-shadow(0px 1px 2px rgba(0, 0, 0, 0.3));\n",
              "      fill: #FFFFFF;\n",
              "    }\n",
              "  </style>\n",
              "\n",
              "      <script>\n",
              "        const buttonEl =\n",
              "          document.querySelector('#df-adabe5ad-8f30-48d7-93be-ce6b3e09cbfd button.colab-df-convert');\n",
              "        buttonEl.style.display =\n",
              "          google.colab.kernel.accessAllowed ? 'block' : 'none';\n",
              "\n",
              "        async function convertToInteractive(key) {\n",
              "          const element = document.querySelector('#df-adabe5ad-8f30-48d7-93be-ce6b3e09cbfd');\n",
              "          const dataTable =\n",
              "            await google.colab.kernel.invokeFunction('convertToInteractive',\n",
              "                                                     [key], {});\n",
              "          if (!dataTable) return;\n",
              "\n",
              "          const docLinkHtml = 'Like what you see? Visit the ' +\n",
              "            '<a target=\"_blank\" href=https://colab.research.google.com/notebooks/data_table.ipynb>data table notebook</a>'\n",
              "            + ' to learn more about interactive tables.';\n",
              "          element.innerHTML = '';\n",
              "          dataTable['output_type'] = 'display_data';\n",
              "          await google.colab.output.renderOutput(dataTable, element);\n",
              "          const docLink = document.createElement('div');\n",
              "          docLink.innerHTML = docLinkHtml;\n",
              "          element.appendChild(docLink);\n",
              "        }\n",
              "      </script>\n",
              "    </div>\n",
              "  </div>\n",
              "  "
            ]
          },
          "metadata": {},
          "execution_count": 4
        }
      ]
    },
    {
      "cell_type": "markdown",
      "source": [
        "# Exploratory Data Analysis (EDA) of the database that includes:\n",
        "Análisis exploratorio de datos (EDA) de la base, que incluye:"
      ],
      "metadata": {
        "id": "XgLq8cmA2IAl"
      }
    },
    {
      "cell_type": "markdown",
      "source": [
        "## Basic descriptive statistics (Measures of central tendency and dispersion)\n",
        "Estadística descriptiva básica (medidas de tendencia central y de dispersión)"
      ],
      "metadata": {
        "id": "n7psVtsoAotO"
      }
    },
    {
      "cell_type": "code",
      "source": [
        "heartdis_df.describe()"
      ],
      "metadata": {
        "colab": {
          "base_uri": "https://localhost:8080/",
          "height": 300
        },
        "id": "DKnTWUhoAxLc",
        "outputId": "1bccf57a-d623-48ee-94e4-788d3ba0f8b7"
      },
      "execution_count": null,
      "outputs": [
        {
          "output_type": "execute_result",
          "data": {
            "text/plain": [
              "       Unnamed: 0         Age   RestingBP  Cholesterol   FastingBS  \\\n",
              "count  800.000000  760.000000  760.000000   760.000000  760.000000   \n",
              "mean   461.441250   53.665789  131.752632   199.684211    0.230263   \n",
              "std    264.263856    9.470369   18.227861   111.107909    0.421278   \n",
              "min      1.000000   29.000000    0.000000     0.000000    0.000000   \n",
              "25%    233.750000   47.000000  120.000000   175.000000    0.000000   \n",
              "50%    461.500000   54.000000  130.000000   225.000000    0.000000   \n",
              "75%    692.250000   61.000000  140.000000   268.250000    0.000000   \n",
              "max    917.000000   77.000000  200.000000   603.000000    1.000000   \n",
              "\n",
              "            MaxHR     Oldpeak  HeartDisease  \n",
              "count  760.000000  760.000000    800.000000  \n",
              "mean   136.957895    0.897237      0.551250  \n",
              "std     25.879844    1.064943      0.497678  \n",
              "min     60.000000   -2.600000      0.000000  \n",
              "25%    120.000000    0.000000      0.000000  \n",
              "50%    139.000000    0.600000      1.000000  \n",
              "75%    156.000000    1.525000      1.000000  \n",
              "max    202.000000    6.200000      1.000000  "
            ],
            "text/html": [
              "\n",
              "  <div id=\"df-e8f08d90-1581-49d2-af53-96453424105a\">\n",
              "    <div class=\"colab-df-container\">\n",
              "      <div>\n",
              "<style scoped>\n",
              "    .dataframe tbody tr th:only-of-type {\n",
              "        vertical-align: middle;\n",
              "    }\n",
              "\n",
              "    .dataframe tbody tr th {\n",
              "        vertical-align: top;\n",
              "    }\n",
              "\n",
              "    .dataframe thead th {\n",
              "        text-align: right;\n",
              "    }\n",
              "</style>\n",
              "<table border=\"1\" class=\"dataframe\">\n",
              "  <thead>\n",
              "    <tr style=\"text-align: right;\">\n",
              "      <th></th>\n",
              "      <th>Unnamed: 0</th>\n",
              "      <th>Age</th>\n",
              "      <th>RestingBP</th>\n",
              "      <th>Cholesterol</th>\n",
              "      <th>FastingBS</th>\n",
              "      <th>MaxHR</th>\n",
              "      <th>Oldpeak</th>\n",
              "      <th>HeartDisease</th>\n",
              "    </tr>\n",
              "  </thead>\n",
              "  <tbody>\n",
              "    <tr>\n",
              "      <th>count</th>\n",
              "      <td>800.000000</td>\n",
              "      <td>760.000000</td>\n",
              "      <td>760.000000</td>\n",
              "      <td>760.000000</td>\n",
              "      <td>760.000000</td>\n",
              "      <td>760.000000</td>\n",
              "      <td>760.000000</td>\n",
              "      <td>800.000000</td>\n",
              "    </tr>\n",
              "    <tr>\n",
              "      <th>mean</th>\n",
              "      <td>461.441250</td>\n",
              "      <td>53.665789</td>\n",
              "      <td>131.752632</td>\n",
              "      <td>199.684211</td>\n",
              "      <td>0.230263</td>\n",
              "      <td>136.957895</td>\n",
              "      <td>0.897237</td>\n",
              "      <td>0.551250</td>\n",
              "    </tr>\n",
              "    <tr>\n",
              "      <th>std</th>\n",
              "      <td>264.263856</td>\n",
              "      <td>9.470369</td>\n",
              "      <td>18.227861</td>\n",
              "      <td>111.107909</td>\n",
              "      <td>0.421278</td>\n",
              "      <td>25.879844</td>\n",
              "      <td>1.064943</td>\n",
              "      <td>0.497678</td>\n",
              "    </tr>\n",
              "    <tr>\n",
              "      <th>min</th>\n",
              "      <td>1.000000</td>\n",
              "      <td>29.000000</td>\n",
              "      <td>0.000000</td>\n",
              "      <td>0.000000</td>\n",
              "      <td>0.000000</td>\n",
              "      <td>60.000000</td>\n",
              "      <td>-2.600000</td>\n",
              "      <td>0.000000</td>\n",
              "    </tr>\n",
              "    <tr>\n",
              "      <th>25%</th>\n",
              "      <td>233.750000</td>\n",
              "      <td>47.000000</td>\n",
              "      <td>120.000000</td>\n",
              "      <td>175.000000</td>\n",
              "      <td>0.000000</td>\n",
              "      <td>120.000000</td>\n",
              "      <td>0.000000</td>\n",
              "      <td>0.000000</td>\n",
              "    </tr>\n",
              "    <tr>\n",
              "      <th>50%</th>\n",
              "      <td>461.500000</td>\n",
              "      <td>54.000000</td>\n",
              "      <td>130.000000</td>\n",
              "      <td>225.000000</td>\n",
              "      <td>0.000000</td>\n",
              "      <td>139.000000</td>\n",
              "      <td>0.600000</td>\n",
              "      <td>1.000000</td>\n",
              "    </tr>\n",
              "    <tr>\n",
              "      <th>75%</th>\n",
              "      <td>692.250000</td>\n",
              "      <td>61.000000</td>\n",
              "      <td>140.000000</td>\n",
              "      <td>268.250000</td>\n",
              "      <td>0.000000</td>\n",
              "      <td>156.000000</td>\n",
              "      <td>1.525000</td>\n",
              "      <td>1.000000</td>\n",
              "    </tr>\n",
              "    <tr>\n",
              "      <th>max</th>\n",
              "      <td>917.000000</td>\n",
              "      <td>77.000000</td>\n",
              "      <td>200.000000</td>\n",
              "      <td>603.000000</td>\n",
              "      <td>1.000000</td>\n",
              "      <td>202.000000</td>\n",
              "      <td>6.200000</td>\n",
              "      <td>1.000000</td>\n",
              "    </tr>\n",
              "  </tbody>\n",
              "</table>\n",
              "</div>\n",
              "      <button class=\"colab-df-convert\" onclick=\"convertToInteractive('df-e8f08d90-1581-49d2-af53-96453424105a')\"\n",
              "              title=\"Convert this dataframe to an interactive table.\"\n",
              "              style=\"display:none;\">\n",
              "        \n",
              "  <svg xmlns=\"http://www.w3.org/2000/svg\" height=\"24px\"viewBox=\"0 0 24 24\"\n",
              "       width=\"24px\">\n",
              "    <path d=\"M0 0h24v24H0V0z\" fill=\"none\"/>\n",
              "    <path d=\"M18.56 5.44l.94 2.06.94-2.06 2.06-.94-2.06-.94-.94-2.06-.94 2.06-2.06.94zm-11 1L8.5 8.5l.94-2.06 2.06-.94-2.06-.94L8.5 2.5l-.94 2.06-2.06.94zm10 10l.94 2.06.94-2.06 2.06-.94-2.06-.94-.94-2.06-.94 2.06-2.06.94z\"/><path d=\"M17.41 7.96l-1.37-1.37c-.4-.4-.92-.59-1.43-.59-.52 0-1.04.2-1.43.59L10.3 9.45l-7.72 7.72c-.78.78-.78 2.05 0 2.83L4 21.41c.39.39.9.59 1.41.59.51 0 1.02-.2 1.41-.59l7.78-7.78 2.81-2.81c.8-.78.8-2.07 0-2.86zM5.41 20L4 18.59l7.72-7.72 1.47 1.35L5.41 20z\"/>\n",
              "  </svg>\n",
              "      </button>\n",
              "      \n",
              "  <style>\n",
              "    .colab-df-container {\n",
              "      display:flex;\n",
              "      flex-wrap:wrap;\n",
              "      gap: 12px;\n",
              "    }\n",
              "\n",
              "    .colab-df-convert {\n",
              "      background-color: #E8F0FE;\n",
              "      border: none;\n",
              "      border-radius: 50%;\n",
              "      cursor: pointer;\n",
              "      display: none;\n",
              "      fill: #1967D2;\n",
              "      height: 32px;\n",
              "      padding: 0 0 0 0;\n",
              "      width: 32px;\n",
              "    }\n",
              "\n",
              "    .colab-df-convert:hover {\n",
              "      background-color: #E2EBFA;\n",
              "      box-shadow: 0px 1px 2px rgba(60, 64, 67, 0.3), 0px 1px 3px 1px rgba(60, 64, 67, 0.15);\n",
              "      fill: #174EA6;\n",
              "    }\n",
              "\n",
              "    [theme=dark] .colab-df-convert {\n",
              "      background-color: #3B4455;\n",
              "      fill: #D2E3FC;\n",
              "    }\n",
              "\n",
              "    [theme=dark] .colab-df-convert:hover {\n",
              "      background-color: #434B5C;\n",
              "      box-shadow: 0px 1px 3px 1px rgba(0, 0, 0, 0.15);\n",
              "      filter: drop-shadow(0px 1px 2px rgba(0, 0, 0, 0.3));\n",
              "      fill: #FFFFFF;\n",
              "    }\n",
              "  </style>\n",
              "\n",
              "      <script>\n",
              "        const buttonEl =\n",
              "          document.querySelector('#df-e8f08d90-1581-49d2-af53-96453424105a button.colab-df-convert');\n",
              "        buttonEl.style.display =\n",
              "          google.colab.kernel.accessAllowed ? 'block' : 'none';\n",
              "\n",
              "        async function convertToInteractive(key) {\n",
              "          const element = document.querySelector('#df-e8f08d90-1581-49d2-af53-96453424105a');\n",
              "          const dataTable =\n",
              "            await google.colab.kernel.invokeFunction('convertToInteractive',\n",
              "                                                     [key], {});\n",
              "          if (!dataTable) return;\n",
              "\n",
              "          const docLinkHtml = 'Like what you see? Visit the ' +\n",
              "            '<a target=\"_blank\" href=https://colab.research.google.com/notebooks/data_table.ipynb>data table notebook</a>'\n",
              "            + ' to learn more about interactive tables.';\n",
              "          element.innerHTML = '';\n",
              "          dataTable['output_type'] = 'display_data';\n",
              "          await google.colab.output.renderOutput(dataTable, element);\n",
              "          const docLink = document.createElement('div');\n",
              "          docLink.innerHTML = docLinkHtml;\n",
              "          element.appendChild(docLink);\n",
              "        }\n",
              "      </script>\n",
              "    </div>\n",
              "  </div>\n",
              "  "
            ]
          },
          "metadata": {},
          "execution_count": 5
        }
      ]
    },
    {
      "cell_type": "markdown",
      "source": [
        "## Distribution graphs (Histograms and bars)\n",
        "Gráficas de distribución de variables (histogramas y barras)"
      ],
      "metadata": {
        "id": "D6f5LBZj2MFU"
      }
    },
    {
      "cell_type": "markdown",
      "source": [
        "### Histograms (numeric variables):\n",
        "Histogramas (variables numéricas):"
      ],
      "metadata": {
        "id": "kUc24gvMB0Fs"
      }
    },
    {
      "cell_type": "code",
      "execution_count": null,
      "metadata": {
        "colab": {
          "base_uri": "https://localhost:8080/",
          "height": 607
        },
        "id": "DHC4oyrW12KJ",
        "outputId": "8f991abb-7ff4-4fc7-89e3-f57da5b528d0"
      },
      "outputs": [
        {
          "output_type": "display_data",
          "data": {
            "text/plain": [
              "<Figure size 1440x720 with 9 Axes>"
            ],
            "image/png": "[encoded data removed]"
          },
          "metadata": {
            "needs_background": "light"
          }
        }
      ],
      "source": [
        "hists = heartdis_df.hist(figsize=(20,10), color = 'pink')"
      ]
    },
    {
      "cell_type": "markdown",
      "source": [
        "### Bar charts (categorical variables):\n",
        "Barras (variables categóricas):"
      ],
      "metadata": {
        "id": "AryJLaiCB-S-"
      }
    },
    {
      "cell_type": "code",
      "source": [
        "bars = heartdis_df.plot(kind = 'bar', color = 'pink')"
      ],
      "metadata": {
        "colab": {
          "base_uri": "https://localhost:8080/",
          "height": 274
        },
        "id": "oGZYtt2xBtOy",
        "outputId": "0e3ded1d-4b33-4c59-9e74-6394def06d18"
      },
      "execution_count": null,
      "outputs": [
        {
          "output_type": "display_data",
          "data": {
            "text/plain": [
              "<Figure size 432x288 with 1 Axes>"
            ],
            "image/png": "[encoded data removed]"
          },
          "metadata": {
            "needs_background": "light"
          }
        }
      ]
    },
    {
      "cell_type": "markdown",
      "source": [
        "## A method for identifying outliers\n",
        "Un método de identificación de valores atípicos"
      ],
      "metadata": {
        "id": "xzucLrOwBGaO"
      }
    },
    {
      "cell_type": "code",
      "source": [
        "numericas = heartdis_df.select_dtypes(['int64','float64']).columns\n",
        "categoricas = heartdis_df.select_dtypes(['object']).columns\n",
        "\n",
        "for column in numericas:\n",
        "    plt.figure()\n",
        "    tabla.boxplot([column])"
      ],
      "metadata": {
        "id": "cox4XVj7BF6z"
      },
      "execution_count": null,
      "outputs": []
    },
    {
      "cell_type": "markdown",
      "source": [
        "to be continued..."
      ],
      "metadata": {
        "id": "H5sP6NJxK8tn"
      }
    }
  ]
}